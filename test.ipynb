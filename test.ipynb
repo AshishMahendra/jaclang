{
 "cells": [
  {
   "cell_type": "code",
   "execution_count": 34,
   "metadata": {},
   "outputs": [],
   "source": [
    "from __future__ import annotations\n",
    "\n",
    "class Fruit:\n",
    "    def __init__(self, name, color) -> None:\n",
    "        self.name = name\n",
    "        self.color = color\n",
    "\n",
    "class Apple:\n",
    "    def __init__(self, color, weight, price, origin):\n",
    "        self.color = color\n",
    "        self.weight = weight\n",
    "        self.price = price\n",
    "        self.origin = origin\n",
    "    \n",
    "    def get_fruit(self) -> Fruit:\n",
    "        return Fruit(\"apple\", self.color)\n",
    "    \n"
   ]
  },
  {
   "cell_type": "code",
   "execution_count": 35,
   "metadata": {},
   "outputs": [],
   "source": [
    "from typing import Any\n",
    "\n",
    "def get_type_annotation(data: Any) -> str:\n",
    "    # Check if the input is a dictionary\n",
    "    if isinstance(data, dict):\n",
    "        # Get the class name of the first non-None value in the dictionary\n",
    "        class_name = next((value.__class__.__name__ for value in data.values() if value is not None), None)\n",
    "\n",
    "        if class_name:\n",
    "            return f\"dict[str, {class_name}]\"\n",
    "        else:\n",
    "            return \"dict[str, Any]\"\n",
    "    # If the input is not a dictionary, return its type\n",
    "    else:\n",
    "        return type(data).__name__"
   ]
  },
  {
   "cell_type": "code",
   "execution_count": 36,
   "metadata": {},
   "outputs": [],
   "source": [
    "def get_object_string(obj):\n",
    "    if isinstance(obj, str):\n",
    "        return f'\"{obj}\"'\n",
    "    elif isinstance(obj, (int, float, bool)):\n",
    "        return str(obj)\n",
    "    elif isinstance(obj, list):\n",
    "        return '[' + ', '.join(get_object_string(item) for item in obj) + ']'\n",
    "    elif isinstance(obj, tuple):\n",
    "        return '(' + ', '.join(get_object_string(item) for item in obj) + ')'\n",
    "    elif isinstance(obj, dict):\n",
    "        return '{' + ', '.join(f\"{get_object_string(key)}: {get_object_string(value)}\" for key, value in obj.items()) + '}'\n",
    "    elif hasattr(obj, '__dict__'):\n",
    "        args = ', '.join(f\"{key}={get_object_string(value)}\" for key, value in vars(obj).items())\n",
    "        return f\"{obj.__class__.__name__}({args})\"\n",
    "    else:\n",
    "        return str(obj)"
   ]
  },
  {
   "cell_type": "code",
   "execution_count": 54,
   "metadata": {},
   "outputs": [],
   "source": [
    "apple1 = Apple(\"red\", 100, 100, \"USA\")\n",
    "a = {\n",
    "    \"a1\": apple1,\n",
    "    \"a2\": Apple(\"green\", 200, 200, \"Japan\"),\n",
    "    \"a3\": Apple(\"yellow\", 300, 300, \"China\"),\n",
    "}"
   ]
  },
  {
   "cell_type": "code",
   "execution_count": 47,
   "metadata": {},
   "outputs": [
    {
     "data": {
      "text/plain": [
       "'dict[str, Apple]'"
      ]
     },
     "execution_count": 47,
     "metadata": {},
     "output_type": "execute_result"
    }
   ],
   "source": [
    "get_type_annotation(a)"
   ]
  },
  {
   "cell_type": "code",
   "execution_count": 48,
   "metadata": {},
   "outputs": [
    {
     "data": {
      "text/plain": [
       "'{\"a1\": Apple(color=\"red\", weight=100, price=100, origin=\"USA\"), \"a2\": Apple(color=\"green\", weight=200, price=200, origin=\"Japan\"), \"a3\": Apple(color=\"yellow\", weight=300, price=300, origin=\"China\")}'"
      ]
     },
     "execution_count": 48,
     "metadata": {},
     "output_type": "execute_result"
    }
   ],
   "source": [
    "get_object_string(a)"
   ]
  },
  {
   "cell_type": "code",
   "execution_count": 57,
   "metadata": {},
   "outputs": [],
   "source": [
    "a = Apple(\"red\", 100, 10, \"China\")"
   ]
  },
  {
   "cell_type": "code",
   "execution_count": 50,
   "metadata": {},
   "outputs": [
    {
     "data": {
      "text/plain": [
       "'Apple'"
      ]
     },
     "execution_count": 50,
     "metadata": {},
     "output_type": "execute_result"
    }
   ],
   "source": [
    "get_type_annotation(a)"
   ]
  },
  {
   "cell_type": "code",
   "execution_count": 51,
   "metadata": {},
   "outputs": [
    {
     "data": {
      "text/plain": [
       "'Apple(color=\"red\", weight=100, price=10, origin=\"China\")'"
      ]
     },
     "execution_count": 51,
     "metadata": {},
     "output_type": "execute_result"
    }
   ],
   "source": [
    "get_object_string(a)"
   ]
  },
  {
   "cell_type": "code",
   "execution_count": 52,
   "metadata": {},
   "outputs": [
    {
     "name": "stdout",
     "output_type": "stream",
     "text": [
      "int 10\n"
     ]
    }
   ],
   "source": [
    "a = 10\n",
    "print(get_type_annotation(a), get_object_string(a))"
   ]
  },
  {
   "cell_type": "code",
   "execution_count": 58,
   "metadata": {},
   "outputs": [
    {
     "name": "stdout",
     "output_type": "stream",
     "text": [
      "'Apple Examples' (a) (Apple) = Apple(color=\"red\", weight=100, price=10, origin=\"China\")\n"
     ]
    }
   ],
   "source": [
    "print(f\"'Apple Examples' (a) ({get_type_annotation(a)}) = {get_object_string(a)}\")"
   ]
  },
  {
   "cell_type": "code",
   "execution_count": null,
   "metadata": {},
   "outputs": [],
   "source": []
  }
 ],
 "metadata": {
  "kernelspec": {
   "display_name": "Python 3",
   "language": "python",
   "name": "python3"
  },
  "language_info": {
   "codemirror_mode": {
    "name": "ipython",
    "version": 3
   },
   "file_extension": ".py",
   "mimetype": "text/x-python",
   "name": "python",
   "nbconvert_exporter": "python",
   "pygments_lexer": "ipython3",
   "version": "3.8.10"
  }
 },
 "nbformat": 4,
 "nbformat_minor": 2
}
